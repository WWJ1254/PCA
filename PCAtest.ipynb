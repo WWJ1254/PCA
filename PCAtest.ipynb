{
 "cells": [
  {
   "cell_type": "code",
   "execution_count": 1,
   "metadata": {},
   "outputs": [],
   "source": [
    "from sklearn.decomposition import PCA"
   ]
  },
  {
   "cell_type": "code",
   "execution_count": 2,
   "metadata": {},
   "outputs": [],
   "source": [
    "import pandas as pd\n",
    "train = pd.read_csv('train.csv')\n",
    "test = pd.read_csv('./test.csv')\n",
    "full = pd.concat([train,test],ignore_index=True)"
   ]
  },
  {
   "cell_type": "markdown",
   "metadata": {},
   "source": [
    "数据处理：  \n",
    "Embarked => 登船港口 清洗na,填S  \n",
    "Fare => 船票价格 \n",
    "Cabin => 客舱号 清洗成有无此项，并发现有的生存率高  \n",
    "Sex => 性别 清洗成male=1 female=0 \n",
    "PassengerId => 乘客ID  \n",
    "Pclass => 客舱等级(1/2/3等舱位)  \n",
    "Name => 乘客姓名  \n",
    "Age => 年龄  \n",
    "SibSp => 兄弟姐妹数/配偶数  \n",
    "Parch => 父母数/子女数  \n",
    "Ticket => 船票编号  "
   ]
  },
  {
   "cell_type": "code",
   "execution_count": 3,
   "metadata": {},
   "outputs": [],
   "source": [
    "full = pd.concat([train,test],ignore_index=True)\n",
    "full['Embarked'].fillna('S',inplace=True)\n",
    "full.Fare.fillna(full[full.Pclass==3]['Fare'].median(),inplace=True)\n",
    "full.loc[full.Cabin.notnull(),'Cabin']=1\n",
    "full.loc[full.Cabin.isnull(),'Cabin']=0\n",
    "full.loc[full['Sex']=='male','Sex']=1\n",
    "full.loc[full['Sex']=='female','Sex']=0\n",
    "#print(full)"
   ]
  },
  {
   "cell_type": "markdown",
   "metadata": {},
   "source": [
    "先根据Name提取Title，再用Title的中位数对Age进行插补"
   ]
  },
  {
   "cell_type": "code",
   "execution_count": 4,
   "metadata": {},
   "outputs": [],
   "source": [
    "full['Title']=full['Name'].apply(lambda x: x.split(',')[1].split('.')[0].strip())\n",
    "nn={'Capt':'Rareman','Col':'Rareman','Don':'Rareman','Dona':'Rarewoman',\n",
    "    'Dr':'Rareman','Jonkheer':'Rareman','Lady':'Rarewoman','Major':'Rareman',\n",
    "   'Master':'Master','Miss':'Miss','Mlle':'Rarewoman','Mme':'Rarewoman',\n",
    "   'Mr':'Mr','Mrs':'Mrs','Ms':'Rarewoman','Rev':'Mr','Sir':'Rareman',\n",
    "    'the Countess':'Rarewoman'}\n",
    "full.Title=full.Title.map(nn)\n",
    "full.loc[full.PassengerId==797,'Title']='Rarewoman'"
   ]
  },
  {
   "cell_type": "markdown",
   "metadata": {},
   "source": [
    "Title中的Master主要表示little boy，儿童的生存率往往较高，所以要找出little girl，再填补Age的缺失值。  \n",
    "找出包含在Miss中little girl，根据Master（little boy）的最大值14岁，规定小于14岁的Miss是little girl；缺失年龄的Miss，用假定little girl都由家长陪同上船，因此使用Parch来判定是否为little\n",
    "girl  \n",
    "//赋缺失年龄数据值999"
   ]
  },
  {
   "cell_type": "code",
   "execution_count": 5,
   "metadata": {},
   "outputs": [],
   "source": [
    "full.Age.fillna(999,inplace=True)\n",
    "def girl(aa):\n",
    "    if(aa.Age!=999)&(aa.Title=='Miss')&(aa.Age<=14):\n",
    "        return 'Girl'\n",
    "    elif(aa.Age==999)&(aa.Title=='Miss')&(aa.Parch!=0):\n",
    "        return 'Girl'\n",
    "    else:\n",
    "        return aa.Title\n",
    "full['Title']=full.apply(girl,axis=1)\n",
    "Tit=['Mr','Miss','Mrs','Master','Girl','Rareman','Rarewoman']\n",
    "for i in Tit:\n",
    "    full.loc[(full.Age==999)&(full.Title==i),'Age']=full.loc[full.Title==i,'Age'].median()"
   ]
  },
  {
   "cell_type": "markdown",
   "metadata": {},
   "source": [
    "清洗数据保留如下项目：  \n",
    "Age Cabin Fare Parch Pclass Sex SibSp "
   ]
  },
  {
   "cell_type": "code",
   "execution_count": 6,
   "metadata": {},
   "outputs": [],
   "source": [
    "full['Fare']=full['Fare'].astype(int)\n",
    "full['Age']=full['Age'].astype(int)\n",
    "full['Cabin']=full['Cabin'].astype(int)\n",
    "full['Pclass']=full['Pclass'].astype(int)\n",
    "full['Sex']=full['Sex'].astype(int)\n",
    "datafull=full.drop(columns=['Embarked','Name','Ticket','Title','PassengerId'])\n",
    "datafull.dropna(inplace=True)\n",
    "datafull['Survived']=datafull['Survived'].astype(int)"
   ]
  },
  {
   "cell_type": "markdown",
   "metadata": {},
   "source": [
    "清除Survived=0的数据"
   ]
  },
  {
   "cell_type": "code",
   "execution_count": 7,
   "metadata": {},
   "outputs": [],
   "source": [
    "data=datafull[(datafull.Survived!=0)]\n",
    "data=data.drop(columns=['Survived'])\n",
    "#print(data)"
   ]
  },
  {
   "cell_type": "code",
   "execution_count": 8,
   "metadata": {},
   "outputs": [
    {
     "name": "stdout",
     "output_type": "stream",
     "text": [
      "[[ 3.52319985e-02  3.10943510e-03  9.99347884e-01  1.32471491e-03\n",
      "  -7.00708694e-03 -5.49049579e-04  1.29932899e-03]\n",
      " [ 9.98963808e-01  6.50421903e-03 -3.53310541e-02 -1.93240792e-02\n",
      "  -1.82881830e-02 -1.29571847e-03 -8.43595118e-03]\n",
      " [ 1.47818726e-02  9.53387642e-02 -4.13624389e-03  7.33734088e-01\n",
      "  -2.09507702e-01 -1.03627447e-01  6.30616422e-01]]\n",
      "[9.57490594e-01 4.21078239e-02 1.34306438e-04]\n"
     ]
    }
   ],
   "source": [
    "pca = PCA(n_components=3)\n",
    "Newdata = pca.fit_transform(data)#用数据data训练pca模型，同时返回降维后的数据\n",
    "Invdata = pca.inverse_transform(Newdata)#将降维后的数据转换为原始数据\n",
    "#print(data)\n",
    "#print(Newdata)\n",
    "#print(Invdata)\n",
    "print(pca.components_)#返回具有最大方差的成分\n",
    "print(pca.explained_variance_ratio_)#返回所保留的n个成分各自的方差百分比"
   ]
  },
  {
   "cell_type": "markdown",
   "metadata": {},
   "source": [
    "画图：data、Newdata、Invdata"
   ]
  },
  {
   "cell_type": "code",
   "execution_count": 11,
   "metadata": {},
   "outputs": [
    {
     "data": {
      "image/png": "[encoded data removed]",
      "text/plain": [
       "<matplotlib.figure.Figure at 0x2dfba869b0>"
      ]
     },
     "metadata": {},
     "output_type": "display_data"
    }
   ],
   "source": [
    "import numpy as np\n",
    "import matplotlib.pyplot as plt\n",
    "data_array=np.array(data)\n",
    "Newdata_array=np.array(Newdata)\n",
    "Invdata_array=np.array(Invdata)\n",
    "\n",
    "X=[x for x in range(342)]\n",
    "for i in range(342):\n",
    "    plt.scatter(X,data_array[:,0])\n",
    "for i in range(342):\n",
    "    plt.scatter(X,Newdata_array[:,0])\n",
    "#for i in range(342):\n",
    "#    plt.scatter(X,Invdata_array[:,0])"
   ]
  },
  {
   "cell_type": "markdown",
   "metadata": {},
   "source": [
    "因为第一个特征占所有特征的95%，所以将数据降到一维"
   ]
  },
  {
   "cell_type": "code",
   "execution_count": 10,
   "metadata": {},
   "outputs": [
    {
     "name": "stdout",
     "output_type": "stream",
     "text": [
      "[0.95749059]\n"
     ]
    }
   ],
   "source": [
    "pca = PCA(n_components=1)\n",
    "Newdata = pca.fit_transform(data)#用数据data训练pca模型，同时返回降维后的数据\n",
    "print(pca.explained_variance_ratio_)#返回所保留的n个成分各自的方差百分比"
   ]
  }
 ],
 "metadata": {
  "kernelspec": {
   "display_name": "Python 3",
   "language": "python",
   "name": "python3"
  },
  "language_info": {
   "codemirror_mode": {
    "name": "ipython",
    "version": 3
   },
   "file_extension": ".py",
   "mimetype": "text/x-python",
   "name": "python",
   "nbconvert_exporter": "python",
   "pygments_lexer": "ipython3",
   "version": "3.6.4"
  }
 },
 "nbformat": 4,
 "nbformat_minor": 2
}
